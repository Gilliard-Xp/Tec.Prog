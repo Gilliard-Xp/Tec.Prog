{
  "nbformat": 4,
  "nbformat_minor": 0,
  "metadata": {
    "colab": {
      "provenance": []
    },
    "kernelspec": {
      "name": "python3",
      "display_name": "Python 3"
    },
    "language_info": {
      "name": "python"
    }
  },
  "cells": [
    {
      "cell_type": "code",
      "execution_count": 1,
      "metadata": {
        "colab": {
          "base_uri": "https://localhost:8080/"
        },
        "id": "RkSuMTll44Cd",
        "outputId": "388dd013-cf08-4873-d7cd-3c324326af07"
      },
      "outputs": [
        {
          "output_type": "stream",
          "name": "stdout",
          "text": [
            "Hellow Word\n"
          ]
        }
      ],
      "source": [
        "print(\"Hellow Word\")"
      ]
    }
  ]
}